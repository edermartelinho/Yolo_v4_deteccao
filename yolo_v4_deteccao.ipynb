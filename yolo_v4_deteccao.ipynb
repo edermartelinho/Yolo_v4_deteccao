{
  "nbformat": 4,
  "nbformat_minor": 0,
  "metadata": {
    "colab": {
      "provenance": [],
      "gpuType": "T4",
      "authorship_tag": "ABX9TyOaML8XlkdWvwxXcP+KBjLd",
      "include_colab_link": true
    },
    "kernelspec": {
      "name": "python3",
      "display_name": "Python 3"
    },
    "language_info": {
      "name": "python"
    },
    "accelerator": "GPU"
  },
  "cells": [
    {
      "cell_type": "markdown",
      "metadata": {
        "id": "view-in-github",
        "colab_type": "text"
      },
      "source": [
        "<a href=\"https://colab.research.google.com/github/edermartelinho/Yolo_v4_deteccao/blob/main/yolo_v4_deteccao.ipynb\" target=\"_parent\"><img src=\"https://colab.research.google.com/assets/colab-badge.svg\" alt=\"Open In Colab\"/></a>"
      ]
    },
    {
      "cell_type": "code",
      "execution_count": null,
      "metadata": {
        "id": "f84nzWoBJfLs",
        "colab": {
          "base_uri": "https://localhost:8080/"
        },
        "outputId": "9da80c27-586e-42ae-fc48-96a67e62f4b2"
      },
      "outputs": [
        {
          "output_type": "stream",
          "name": "stdout",
          "text": [
            "fatal: destination path 'darknet' already exists and is not an empty directory.\n"
          ]
        }
      ],
      "source": [
        "!git clone https://github.com/AlexeyAB/darknet"
      ]
    },
    {
      "cell_type": "code",
      "source": [
        "ls\n"
      ],
      "metadata": {
        "colab": {
          "base_uri": "https://localhost:8080/"
        },
        "id": "AsgJwpOAW2SV",
        "outputId": "2ac66a88-db3d-4608-b72e-b938ab4dce97"
      },
      "execution_count": null,
      "outputs": [
        {
          "output_type": "stream",
          "name": "stdout",
          "text": [
            "\u001b[0m\u001b[01;34mdarknet\u001b[0m/  \u001b[01;34msample_data\u001b[0m/\n"
          ]
        }
      ]
    },
    {
      "cell_type": "code",
      "source": [
        "cd darknet/"
      ],
      "metadata": {
        "colab": {
          "base_uri": "https://localhost:8080/"
        },
        "id": "WtRP8RlhXDrT",
        "outputId": "a3e785b9-dcc5-4fa8-c67a-8f90b903bff2"
      },
      "execution_count": null,
      "outputs": [
        {
          "output_type": "stream",
          "name": "stdout",
          "text": [
            "[Errno 20] Not a directory: 'darknet/'\n",
            "/content/darknet\n"
          ]
        }
      ]
    },
    {
      "cell_type": "code",
      "source": [
        "ls"
      ],
      "metadata": {
        "id": "DV48TMtYXDmT"
      },
      "execution_count": null,
      "outputs": []
    },
    {
      "cell_type": "code",
      "source": [
        "!wget https://github.com/AlexeyAB/darknet/releases/download/darknet_yolo_v3_optimal/yolov4.weights"
      ],
      "metadata": {
        "id": "pD_Q42qwXDao"
      },
      "execution_count": null,
      "outputs": []
    },
    {
      "cell_type": "code",
      "source": [
        "!./darknet detect cfg/yolov4.cfg yolov4.weights data/person.jpg"
      ],
      "metadata": {
        "id": "Hr3DjYT2XDWB"
      },
      "execution_count": null,
      "outputs": []
    },
    {
      "cell_type": "code",
      "source": [
        "import cv2\n",
        "import matplotlib.pyplot as plt"
      ],
      "metadata": {
        "id": "q2tCIYJ1XDQV"
      },
      "execution_count": null,
      "outputs": []
    },
    {
      "cell_type": "code",
      "source": [
        "def mostrar (caminho):\n",
        "  imagem = cv2.imread(caminho)\n",
        "  fig = plt.gcf()\n",
        "  fig.set_size_inches(18,10)\n",
        "  plt.axis(\"off\")\n",
        "  plt.imshow(cv2.cvtColor(imagem, cv2.COLOR_BGR2RGB))\n",
        "  plt.show()"
      ],
      "metadata": {
        "id": "SBQTcwa5XDLA"
      },
      "execution_count": null,
      "outputs": []
    },
    {
      "cell_type": "code",
      "source": [
        "mostrar('predictions.jpg')"
      ],
      "metadata": {
        "id": "51qTmAnQXC-u"
      },
      "execution_count": null,
      "outputs": []
    },
    {
      "cell_type": "code",
      "source": [
        "import tensorflow as tf\n",
        "device_name = tf.test.gpu_device_name()\n",
        "print(device_name)"
      ],
      "metadata": {
        "id": "W5Ue66wHXC3W",
        "colab": {
          "base_uri": "https://localhost:8080/"
        },
        "outputId": "996b090b-a1e8-47c6-f612-7eb085b1953c"
      },
      "execution_count": null,
      "outputs": [
        {
          "output_type": "stream",
          "name": "stdout",
          "text": [
            "/device:GPU:0\n"
          ]
        }
      ]
    },
    {
      "cell_type": "code",
      "source": [
        "! sed -i 's/OPENCV=0/OPENCV=1/' Makefile\n",
        "! sed -i 's/GPU=0/GPU=1/' Makefile\n",
        "! sed -i 's/CUDNN=0/CUDNN=1/' Makefile"
      ],
      "metadata": {
        "id": "q9BrqNHLXCqK"
      },
      "execution_count": null,
      "outputs": []
    },
    {
      "cell_type": "code",
      "source": [
        "! cat Makefile"
      ],
      "metadata": {
        "id": "YBOSlGViyjpG"
      },
      "execution_count": null,
      "outputs": []
    },
    {
      "cell_type": "code",
      "source": [
        "!make"
      ],
      "metadata": {
        "id": "zvAuVnv_ymbI"
      },
      "execution_count": null,
      "outputs": []
    },
    {
      "cell_type": "code",
      "source": [
        "!./darknet detect cfg/yolov4.cfg yolov4.weights data/person.jpg"
      ],
      "metadata": {
        "id": "HGqvxQlfzAIB"
      },
      "execution_count": null,
      "outputs": []
    },
    {
      "cell_type": "code",
      "source": [
        "mostrar ('predictions.jpg')"
      ],
      "metadata": {
        "id": "U1QX_vRYzp1W"
      },
      "execution_count": null,
      "outputs": []
    },
    {
      "cell_type": "code",
      "source": [
        "!./darknet detect cfg/yolov4.cfg yolov4.weights data/giraffe.jpg"
      ],
      "metadata": {
        "id": "vXST8A9Ez5US"
      },
      "execution_count": null,
      "outputs": []
    },
    {
      "cell_type": "code",
      "source": [
        "mostrar ('predictions.jpg')"
      ],
      "metadata": {
        "id": "pXbKeYlU0JHp"
      },
      "execution_count": null,
      "outputs": []
    },
    {
      "cell_type": "code",
      "source": [
        "!nvidia-smi"
      ],
      "metadata": {
        "id": "dZ33FhOr0bXq"
      },
      "execution_count": null,
      "outputs": []
    },
    {
      "cell_type": "code",
      "source": [
        "!/usr/local/cuda/bin/nvcc --version"
      ],
      "metadata": {
        "id": "BpeJBUX-0hue"
      },
      "execution_count": null,
      "outputs": []
    },
    {
      "cell_type": "code",
      "source": [
        "import os"
      ],
      "metadata": {
        "id": "cH-1XV9F1QDR"
      },
      "execution_count": null,
      "outputs": []
    },
    {
      "cell_type": "code",
      "source": [
        "def detectar(imagem):\n",
        "  os.system('cd /content/darknet && ./darknet detect cfg/yolov4.cfg yolov4.weights {}'.format(imagem))\n",
        "  mostrar('predictions.jpg')"
      ],
      "metadata": {
        "id": "8nwwHRYG1SzQ"
      },
      "execution_count": null,
      "outputs": []
    },
    {
      "cell_type": "code",
      "source": [
        "detectar('data/person.jpg')"
      ],
      "metadata": {
        "id": "4vYdI-Gh3ZeX"
      },
      "execution_count": null,
      "outputs": []
    },
    {
      "cell_type": "code",
      "source": [
        "imagens = ['data/horses.jpg', 'data/eagle.jpg', 'data/giraffe.jpg']\n",
        "for img in imagens:\n",
        "  detectar(img)"
      ],
      "metadata": {
        "id": "n_sWZM5s3m0z"
      },
      "execution_count": null,
      "outputs": []
    },
    {
      "cell_type": "code",
      "source": [
        "! cat data/coco.names"
      ],
      "metadata": {
        "id": "9L5V2VVK45Wj"
      },
      "execution_count": null,
      "outputs": []
    }
  ]
}